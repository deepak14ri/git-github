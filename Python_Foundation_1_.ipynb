{
  "nbformat": 4,
  "nbformat_minor": 0,
  "metadata": {
    "colab": {
      "name": "Python Foundation 1:.ipynb",
      "provenance": [],
      "authorship_tag": "ABX9TyPkfKiPPM8c58AYwM0jzRJp",
      "include_colab_link": true
    },
    "kernelspec": {
      "name": "python3",
      "display_name": "Python 3"
    },
    "language_info": {
      "name": "python"
    }
  },
  "cells": [
    {
      "cell_type": "markdown",
      "metadata": {
        "id": "view-in-github",
        "colab_type": "text"
      },
      "source": [
        "<a href=\"https://colab.research.google.com/github/ideepak14ri/git-github/blob/master/Python_Foundation_1_.ipynb\" target=\"_parent\"><img src=\"https://colab.research.google.com/assets/colab-badge.svg\" alt=\"Open In Colab\"/></a>"
      ]
    },
    {
      "cell_type": "code",
      "execution_count": 29,
      "metadata": {
        "id": "UueSUKnz3col"
      },
      "outputs": [],
      "source": [
        "#Exercise 1: \n",
        "#Write a print function that prints \"I am new to python!\"\n"
      ]
    },
    {
      "cell_type": "code",
      "source": [
        "print(\"I am new to python!\")"
      ],
      "metadata": {
        "colab": {
          "base_uri": "https://localhost:8080/"
        },
        "id": "To89C_up32xW",
        "outputId": "a0f4a7cd-181e-4a3b-bc30-338e5630eee0"
      },
      "execution_count": 30,
      "outputs": [
        {
          "output_type": "stream",
          "name": "stdout",
          "text": [
            "I am new to python!\n"
          ]
        }
      ]
    },
    {
      "cell_type": "code",
      "source": [
        "#Excercise : 2\n",
        "\n",
        "#To the program where you printed out I am Learning python\n",
        "\n",
        "#Add a comment It is possible to write within my code blocks without python using # "
      ],
      "metadata": {
        "id": "pQ5Iro7C4nY0"
      },
      "execution_count": 31,
      "outputs": []
    },
    {
      "cell_type": "code",
      "source": [
        "print(\"I am Learning Python\") \n",
        "\n",
        "\"\"\" It is possible to write \n",
        "within my code blocks without \n",
        "python using # \"\"\""
      ],
      "metadata": {
        "colab": {
          "base_uri": "https://localhost:8080/",
          "height": 53
        },
        "id": "2kLSr35v5IwL",
        "outputId": "5d661597-32eb-4cd8-ebe0-cd97f383afb0"
      },
      "execution_count": 32,
      "outputs": [
        {
          "output_type": "stream",
          "name": "stdout",
          "text": [
            "I am Learning Python\n"
          ]
        },
        {
          "output_type": "execute_result",
          "data": {
            "text/plain": [
              "' It is possible to write \\nwithin my code blocks without \\npython using # '"
            ],
            "application/vnd.google.colaboratory.intrinsic+json": {
              "type": "string"
            }
          },
          "metadata": {},
          "execution_count": 32
        }
      ]
    },
    {
      "cell_type": "code",
      "source": [
        "#Excercise : 3\n",
        "#Create a variable as called age and add your age to it"
      ],
      "metadata": {
        "id": "vNwdywDr5vdN"
      },
      "execution_count": 33,
      "outputs": []
    },
    {
      "cell_type": "code",
      "source": [
        "age = int(input())\n",
        "print(age)"
      ],
      "metadata": {
        "colab": {
          "base_uri": "https://localhost:8080/"
        },
        "id": "PYHuK1Hw7qpG",
        "outputId": "004918c3-5a80-4b1d-f5d9-bcecb246f431"
      },
      "execution_count": 36,
      "outputs": [
        {
          "output_type": "stream",
          "name": "stdout",
          "text": [
            "27\n",
            "27\n"
          ]
        }
      ]
    },
    {
      "cell_type": "code",
      "source": [
        "#Excercise : 4\n",
        "#Create two inputs with one taking the name and the other taking the age\n",
        "\n",
        "#And then print out Hey <name> I am glad you started learning python at the age of <age>"
      ],
      "metadata": {
        "id": "4mGDEFKp75r2"
      },
      "execution_count": 37,
      "outputs": []
    },
    {
      "cell_type": "code",
      "source": [
        "name = input() #input(\"Hey\")\n",
        "age = int(input())\n",
        "print(\"Hey\",name, \"I am glad you started learning python at the age of\",age)"
      ],
      "metadata": {
        "colab": {
          "base_uri": "https://localhost:8080/"
        },
        "id": "wREeRHZG8u6D",
        "outputId": "5bb4bd2e-63ac-48fb-8136-7ba365ca13e2"
      },
      "execution_count": 42,
      "outputs": [
        {
          "output_type": "stream",
          "name": "stdout",
          "text": [
            "Deepak\n",
            "27\n",
            "Hey Deepak I am glad you started learning python at the age of 27\n"
          ]
        }
      ]
    },
    {
      "cell_type": "code",
      "source": [
        "#Excercise : 5\n",
        "#What is the datatype of these three variables :"
      ],
      "metadata": {
        "id": "Q64jmlJ79Cp6"
      },
      "execution_count": 44,
      "outputs": []
    },
    {
      "cell_type": "code",
      "source": [
        "discount = 43.8\n",
        "height = 143\n",
        "address = '#301, Pelican Street'\n",
        "print(type(discount), type(height), type(address))"
      ],
      "metadata": {
        "colab": {
          "base_uri": "https://localhost:8080/"
        },
        "id": "wQZIO7tz_jPJ",
        "outputId": "a402a84a-6309-4b3d-8775-55ac6055b3e3"
      },
      "execution_count": 45,
      "outputs": [
        {
          "output_type": "stream",
          "name": "stdout",
          "text": [
            "<class 'float'> <class 'int'> <class 'str'>\n"
          ]
        }
      ]
    },
    {
      "cell_type": "code",
      "source": [
        "#Excercise : 6\n",
        "#Make a list of your favourite colour, food and place and save it in a list called my_favs"
      ],
      "metadata": {
        "id": "N9OHq6Gs_vpy"
      },
      "execution_count": 46,
      "outputs": []
    },
    {
      "cell_type": "code",
      "source": [
        "my_favs = [\"Pink\", \"Litty-Chokha\", \"Gorakhpur\"]\n",
        "print(my_favs)"
      ],
      "metadata": {
        "colab": {
          "base_uri": "https://localhost:8080/"
        },
        "id": "Xgv378gYAOXX",
        "outputId": "7a9f26ad-e65f-45bc-f31b-f88be8526145"
      },
      "execution_count": 48,
      "outputs": [
        {
          "output_type": "stream",
          "name": "stdout",
          "text": [
            "['Pink', 'Litty-Chokha', 'Gorakhpur']\n"
          ]
        }
      ]
    },
    {
      "cell_type": "code",
      "source": [
        "#Excercise : 7\n",
        "#Using the range function from 4 to 40 and then check the length"
      ],
      "metadata": {
        "id": "zOeaN5rqAs-i"
      },
      "execution_count": 49,
      "outputs": []
    },
    {
      "cell_type": "code",
      "source": [
        "rangeLength = range(4,40)\n",
        "print(len(rangeLength))"
      ],
      "metadata": {
        "colab": {
          "base_uri": "https://localhost:8080/"
        },
        "id": "2bQHmB4FA5Py",
        "outputId": "c368b4a7-c86d-410f-a20a-d6376704f2e9"
      },
      "execution_count": 52,
      "outputs": [
        {
          "output_type": "stream",
          "name": "stdout",
          "text": [
            "36\n"
          ]
        }
      ]
    },
    {
      "cell_type": "code",
      "source": [
        "#Excercise : 8\n",
        "#Make a dictionary with students name and their scores !"
      ],
      "metadata": {
        "id": "D6zoXLU4A9SH"
      },
      "execution_count": 54,
      "outputs": []
    },
    {
      "cell_type": "code",
      "source": [
        "\n",
        "Student = {\"Jake Score\": 70, \"Mako Score\": 75, \"Alex Score\": 78.5}\n",
        "print(Student)"
      ],
      "metadata": {
        "colab": {
          "base_uri": "https://localhost:8080/"
        },
        "id": "tTxQ614kBozN",
        "outputId": "0868d7b0-32a8-4e7d-f4bc-7a0646d484cd"
      },
      "execution_count": 59,
      "outputs": [
        {
          "output_type": "stream",
          "name": "stdout",
          "text": [
            "{'Jake Score': 70, 'Mako Score': 75, 'Alex Score': 78.5}\n"
          ]
        }
      ]
    },
    {
      "cell_type": "code",
      "source": [
        "#Excercise : 9\n",
        "#Create a variable with the value of pi as 3.14, create a new variable as radius and assign it a float value, \n",
        "#this will be the radius of a circle and then output the area of the circle using the formula pi*radius^2"
      ],
      "metadata": {
        "id": "156mDKLMCUjn"
      },
      "execution_count": 60,
      "outputs": []
    },
    {
      "cell_type": "code",
      "source": [
        "pi = 3.14\n",
        "radius = float(input())\n",
        "areaCircle = pi*(radius**2)\n",
        "print(areaCircle)"
      ],
      "metadata": {
        "colab": {
          "base_uri": "https://localhost:8080/"
        },
        "id": "boBnieOZEXtM",
        "outputId": "31b9a272-da00-40b7-8c86-6847c3ccd0f8"
      },
      "execution_count": 61,
      "outputs": [
        {
          "output_type": "stream",
          "name": "stdout",
          "text": [
            "2.0\n",
            "12.56\n"
          ]
        }
      ]
    },
    {
      "cell_type": "code",
      "source": [
        "#Excercise : 10\n",
        "#In the last excercise you created a program to get the area of a circle , create a print \n",
        "#function that checks if the area that your program created is bigger than 50 or not"
      ],
      "metadata": {
        "id": "ZpOFwCIKE-yh"
      },
      "execution_count": 62,
      "outputs": []
    },
    {
      "cell_type": "code",
      "source": [
        "pi = 3.14\n",
        "radius = float(input())\n",
        "areaCircle = pi*(radius**2)\n",
        "print(areaCircle>50)"
      ],
      "metadata": {
        "colab": {
          "base_uri": "https://localhost:8080/"
        },
        "id": "rLAkeQKFFO47",
        "outputId": "07804c8c-08e0-49a9-c33a-54cde50618b6"
      },
      "execution_count": 63,
      "outputs": [
        {
          "output_type": "stream",
          "name": "stdout",
          "text": [
            "2\n",
            "False\n"
          ]
        }
      ]
    },
    {
      "cell_type": "code",
      "source": [
        "#Excercise : 11\n",
        "#Create a print function for our circle area generator to check if the area is between 20 AND 50"
      ],
      "metadata": {
        "id": "bFWI8bkMFirw"
      },
      "execution_count": 64,
      "outputs": []
    },
    {
      "cell_type": "code",
      "source": [
        "pi = 3.14\n",
        "radius = float(input())\n",
        "areaCircle = pi*(radius**2)\n",
        "print(areaCircle>20 and areaCircle<50)"
      ],
      "metadata": {
        "colab": {
          "base_uri": "https://localhost:8080/"
        },
        "id": "-rzIos9nFvYg",
        "outputId": "6d606644-4ddd-40ec-8f80-91880aca0f90"
      },
      "execution_count": 66,
      "outputs": [
        {
          "output_type": "stream",
          "name": "stdout",
          "text": [
            "3\n",
            "True\n"
          ]
        }
      ]
    },
    {
      "cell_type": "code",
      "source": [
        ""
      ],
      "metadata": {
        "id": "ar9oklWCF80q"
      },
      "execution_count": null,
      "outputs": []
    }
  ]
}